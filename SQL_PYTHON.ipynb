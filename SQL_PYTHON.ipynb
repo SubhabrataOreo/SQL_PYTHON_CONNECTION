{
 "cells": [
  {
   "cell_type": "code",
   "execution_count": 39,
   "metadata": {},
   "outputs": [
    {
     "name": "stdout",
     "output_type": "stream",
     "text": [
      "Requirement already satisfied: mysql-connector-python in c:\\programdata\\anaconda3\\lib\\site-packages (8.0.21)\n",
      "Requirement already satisfied: protobuf>=3.0.0 in c:\\programdata\\anaconda3\\lib\\site-packages (from mysql-connector-python) (3.12.2)\n",
      "Requirement already satisfied: six>=1.9 in c:\\programdata\\anaconda3\\lib\\site-packages (from protobuf>=3.0.0->mysql-connector-python) (1.12.0)\n",
      "Requirement already satisfied: setuptools in c:\\programdata\\anaconda3\\lib\\site-packages (from protobuf>=3.0.0->mysql-connector-python) (41.0.1)\n"
     ]
    }
   ],
   "source": [
    "!pip install mysql-connector-python"
   ]
  },
  {
   "cell_type": "code",
   "execution_count": 1,
   "metadata": {},
   "outputs": [],
   "source": [
    "import mysql.connector"
   ]
  },
  {
   "cell_type": "code",
   "execution_count": 4,
   "metadata": {},
   "outputs": [
    {
     "name": "stdout",
     "output_type": "stream",
     "text": [
      "<mysql.connector.connection.MySQLConnection object at 0x000001B225AABD30>\n"
     ]
    }
   ],
   "source": [
    " mydb=mysql.connector.connect(\n",
    "   host=\"127.0.0.1\",\n",
    "   user=\"root\",\n",
    "   database=\"records\"\n",
    " )\n",
    " print(mydb)\n",
    "mycursor=mydb.cursor()\n",
    "#ycursor.execute(\"CREATE TABLE basic(name VARCHAR(45),residence VARCHAR(255))\")"
   ]
  },
  {
   "cell_type": "code",
   "execution_count": 5,
   "metadata": {},
   "outputs": [
    {
     "name": "stdout",
     "output_type": "stream",
     "text": [
      "('basic',)\n"
     ]
    }
   ],
   "source": [
    "mycursor.execute(\"SHOW TABLES\")\n",
    "for x in mycursor:\n",
    "    print(x)"
   ]
  },
  {
   "cell_type": "code",
   "execution_count": 7,
   "metadata": {},
   "outputs": [],
   "source": [
    "mycursor.execute(\"ALTER TABLE basic ADD COLUMN id INT AUTO_INCREMENT PRIMARY KEY\")"
   ]
  },
  {
   "cell_type": "code",
   "execution_count": 28,
   "metadata": {},
   "outputs": [
    {
     "name": "stdout",
     "output_type": "stream",
     "text": [
      "3 rows are inserted\n"
     ]
    }
   ],
   "source": [
    "sql= \"INSERT INTO basic (name, residence) VALUES(%s,%s)\"\n",
    "val=[(\"Misti\",\"Jhanjra\"),\n",
    "    (\"Oreo\",\"Gopalmath\"),\n",
    "    (\"Echche\",\"Our_heart\")]\n",
    "mycursor.executemany(sql,val)\n",
    "\n",
    "mydb.commit()\n",
    "print(mycursor.rowcount,\"rows are inserted\")"
   ]
  },
  {
   "cell_type": "code",
   "execution_count": 31,
   "metadata": {},
   "outputs": [
    {
     "name": "stdout",
     "output_type": "stream",
     "text": [
      "('Misti', 'Jhanjra', 1)\n",
      "('Oreo', 'Gopalmath', 2)\n",
      "('Echche', 'Our_heart', 3)\n"
     ]
    }
   ],
   "source": [
    "mycursor.execute(\"SELECT * FROM basic\")\n",
    "result=mycursor.fetchall()\n",
    "for x in result:\n",
    "    print(x)"
   ]
  },
  {
   "cell_type": "code",
   "execution_count": 32,
   "metadata": {},
   "outputs": [],
   "source": [
    "#mycursor.execute(\"TRUNCATE TABLE basic\")\n",
    "#mydb.commit\n",
    "#print(\"All recrods deleted\")"
   ]
  },
  {
   "cell_type": "code",
   "execution_count": 8,
   "metadata": {},
   "outputs": [
    {
     "name": "stdout",
     "output_type": "stream",
     "text": [
      "('Echche', 'Our_heart', 3)\n"
     ]
    }
   ],
   "source": [
    "sql=\"SELECT * FROM basic WHERE residence='Our_heart'\"\n",
    "mycursor.execute(sql)\n",
    "result= mycursor.fetchall()\n",
    "\n",
    "for x in result:\n",
    "    print(x)\n"
   ]
  },
  {
   "cell_type": "code",
   "execution_count": 13,
   "metadata": {},
   "outputs": [
    {
     "name": "stdout",
     "output_type": "stream",
     "text": [
      "('Misti',)\n"
     ]
    }
   ],
   "source": [
    "sql=\"SELECT name FROM basic WHERE name LIKE '%Mis%'\"\n",
    "mycursor.execute(sql)\n",
    "result= mycursor.fetchall()\n",
    "\n",
    "for x in result:\n",
    "    print(x)"
   ]
  },
  {
   "cell_type": "code",
   "execution_count": 15,
   "metadata": {},
   "outputs": [
    {
     "name": "stdout",
     "output_type": "stream",
     "text": [
      "('Echche', 'Our_heart', 3)\n",
      "('Misti', 'Jhanjra', 1)\n",
      "('Oreo', 'Gopalmath', 2)\n"
     ]
    }
   ],
   "source": [
    "sql=\"SELECT * FROM basic ORDER BY name\"\n",
    "mycursor.execute(sql)\n",
    "result=mycursor.fetchall()\n",
    "\n",
    "for x in result:\n",
    "    print(x)"
   ]
  },
  {
   "cell_type": "code",
   "execution_count": 16,
   "metadata": {},
   "outputs": [
    {
     "name": "stdout",
     "output_type": "stream",
     "text": [
      "('Oreo', 'Gopalmath', 2)\n",
      "('Misti', 'Jhanjra', 1)\n",
      "('Echche', 'Our_heart', 3)\n"
     ]
    }
   ],
   "source": [
    "sql=\"SELECT * FROM basic ORDER BY name DESC\"\n",
    "mycursor.execute(sql)\n",
    "result=mycursor.fetchall()\n",
    "\n",
    "for x in result:\n",
    "    print(x)"
   ]
  },
  {
   "cell_type": "code",
   "execution_count": 17,
   "metadata": {},
   "outputs": [
    {
     "name": "stdout",
     "output_type": "stream",
     "text": [
      "('Misti', 'Jhanjra', 1)\n",
      "('Oreo', 'Gopalmath', 2)\n",
      "('Echche', 'Our_heart', 3)\n"
     ]
    }
   ],
   "source": [
    "sql=\"SELECT * FROM basic ORDER BY id\"\n",
    "mycursor.execute(sql)\n",
    "result=mycursor.fetchall()\n",
    "\n",
    "for x in result:\n",
    "    print(x)"
   ]
  },
  {
   "cell_type": "code",
   "execution_count": 21,
   "metadata": {},
   "outputs": [],
   "source": [
    "sql= \"UPDATE basic SET residence='Gopalmath' WHERE residence='Jhanjra'\"\n",
    "mycursor.execute(sql)\n",
    "#result= mycursor.fetchall()\n",
    "#for x in result:\n",
    "    #print(x)"
   ]
  },
  {
   "cell_type": "code",
   "execution_count": 22,
   "metadata": {},
   "outputs": [
    {
     "name": "stdout",
     "output_type": "stream",
     "text": [
      "('Misti', 'Gopalmath', 1)\n",
      "('Oreo', 'Gopalmath', 2)\n",
      "('Echche', 'Our_heart', 3)\n"
     ]
    }
   ],
   "source": [
    "sql=\"SELECT * FROM basic\"\n",
    "mycursor.execute(sql)\n",
    "result= mycursor.fetchall()\n",
    "for x in result:\n",
    "    print(x)"
   ]
  },
  {
   "cell_type": "code",
   "execution_count": null,
   "metadata": {},
   "outputs": [],
   "source": []
  }
 ],
 "metadata": {
  "kernelspec": {
   "display_name": "Python 3",
   "language": "python",
   "name": "python3"
  },
  "language_info": {
   "codemirror_mode": {
    "name": "ipython",
    "version": 3
   },
   "file_extension": ".py",
   "mimetype": "text/x-python",
   "name": "python",
   "nbconvert_exporter": "python",
   "pygments_lexer": "ipython3",
   "version": "3.7.3"
  }
 },
 "nbformat": 4,
 "nbformat_minor": 4
}
